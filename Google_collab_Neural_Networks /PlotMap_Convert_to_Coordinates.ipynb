{
  "nbformat": 4,
  "nbformat_minor": 0,
  "metadata": {
    "colab": {
      "provenance": [],
      "authorship_tag": "ABX9TyPIpAIfUutwPWEiloGRU5A1",
      "include_colab_link": true
    },
    "kernelspec": {
      "name": "python3",
      "display_name": "Python 3"
    },
    "language_info": {
      "name": "python"
    }
  },
  "cells": [
    {
      "cell_type": "markdown",
      "metadata": {
        "id": "view-in-github",
        "colab_type": "text"
      },
      "source": [
        "<a href=\"https://colab.research.google.com/github/LewisLim-USA/LewisLim-USA/blob/main/Google_collab_Neural_Networks%20/PlotMap_Convert_to_Coordinates.ipynb\" target=\"_parent\"><img src=\"https://colab.research.google.com/assets/colab-badge.svg\" alt=\"Open In Colab\"/></a>"
      ]
    },
    {
      "cell_type": "code",
      "execution_count": null,
      "metadata": {
        "colab": {
          "base_uri": "https://localhost:8080/"
        },
        "id": "3swvtlemu8U9",
        "outputId": "64aade54-558d-41d0-dee8-32244c836dc0"
      },
      "outputs": [
        {
          "output_type": "stream",
          "name": "stdout",
          "text": [
            "[(3.0990977, 101.6464176), (3.0632813, 101.6170616), (3.0900228, 101.6216778), (3.0990977, 101.6464176)]\n"
          ]
        }
      ],
      "source": [
        "from geopy.geocoders import Nominatim\n",
        "import time\n",
        "\n",
        "locations = [\n",
        "    \"The Institution of Engineers, Malaysia\",\n",
        "    \"Taylor's University Lakeside Campus, Malaysia\",\n",
        "    \"Mutiara Damansara MRT Station (KG08), Malaysia\",\n",
        "    \"SMK Sri Permata, 3, Jalan SS 3/98, Taman University, Malaysia\",\n",
        "    \"Seventeen Mall, 998, Jalan 17/38, Seksyen 17, Malaysia\",\n",
        "    \"Park 51 Residency, Jalan 51A/241, Seksyen 51a, Malaysia\",\n",
        "    \"UMSC Specialist Outpatient Clinics, Malaysia\",\n",
        "    \"The Institution of Engineers, Malaysia\"\n",
        "]\n",
        "\n",
        "geolocator = Nominatim(user_agent=\"custom_route_creator\")\n",
        "coordinates = []\n",
        "\n",
        "for location in locations:\n",
        "    loc = geolocator.geocode(location)\n",
        "    if loc:\n",
        "        coordinates.append((loc.latitude, loc.longitude))\n",
        "    time.sleep(1)\n",
        "\n",
        "print(coordinates)\n"
      ]
    }
  ]
}